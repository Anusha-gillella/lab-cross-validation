{
 "cells": [
  {
   "cell_type": "code",
   "execution_count": 1,
   "id": "ef79da4e",
   "metadata": {},
   "outputs": [],
   "source": [
    "import pandas as pd\n",
    "import numpy as np\n",
    "import seaborn as sb\n",
    "import matplotlib.pyplot as plt\n",
    "from sklearn.preprocessing import StandardScaler\n",
    "from sklearn.preprocessing import OneHotEncoder\n",
    "from sklearn.metrics import accuracy_score\n",
    "from sklearn.model_selection import train_test_split\n",
    "from sklearn.linear_model import LogisticRegression\n",
    "from sklearn.tree import DecisionTreeClassifier\n",
    "from sklearn.metrics import classification_report\n",
    "from imblearn.over_sampling import SMOTE \n",
    "from imblearn.under_sampling import TomekLinks\n",
    "import warnings\n",
    "import os\n",
    "warnings.filterwarnings('ignore')"
   ]
  },
  {
   "cell_type": "code",
   "execution_count": 2,
   "id": "45be97bc",
   "metadata": {},
   "outputs": [
    {
     "data": {
      "text/html": [
       "<div>\n",
       "<style scoped>\n",
       "    .dataframe tbody tr th:only-of-type {\n",
       "        vertical-align: middle;\n",
       "    }\n",
       "\n",
       "    .dataframe tbody tr th {\n",
       "        vertical-align: top;\n",
       "    }\n",
       "\n",
       "    .dataframe thead th {\n",
       "        text-align: right;\n",
       "    }\n",
       "</style>\n",
       "<table border=\"1\" class=\"dataframe\">\n",
       "  <thead>\n",
       "    <tr style=\"text-align: right;\">\n",
       "      <th></th>\n",
       "      <th>gender</th>\n",
       "      <th>SeniorCitizen</th>\n",
       "      <th>Partner</th>\n",
       "      <th>Dependents</th>\n",
       "      <th>tenure</th>\n",
       "      <th>PhoneService</th>\n",
       "      <th>MultipleLines</th>\n",
       "      <th>InternetService</th>\n",
       "      <th>OnlineSecurity</th>\n",
       "      <th>OnlineBackup</th>\n",
       "      <th>DeviceProtection</th>\n",
       "      <th>TechSupport</th>\n",
       "      <th>StreamingTV</th>\n",
       "      <th>StreamingMovies</th>\n",
       "      <th>Contract</th>\n",
       "      <th>PaperlessBilling</th>\n",
       "      <th>PaymentMethod</th>\n",
       "      <th>MonthlyCharges</th>\n",
       "      <th>TotalCharges</th>\n",
       "      <th>Churn</th>\n",
       "    </tr>\n",
       "  </thead>\n",
       "  <tbody>\n",
       "    <tr>\n",
       "      <th>0</th>\n",
       "      <td>Female</td>\n",
       "      <td>0</td>\n",
       "      <td>Yes</td>\n",
       "      <td>No</td>\n",
       "      <td>1</td>\n",
       "      <td>No</td>\n",
       "      <td>No phone service</td>\n",
       "      <td>DSL</td>\n",
       "      <td>No</td>\n",
       "      <td>Yes</td>\n",
       "      <td>No</td>\n",
       "      <td>No</td>\n",
       "      <td>No</td>\n",
       "      <td>No</td>\n",
       "      <td>Month-to-month</td>\n",
       "      <td>Yes</td>\n",
       "      <td>Electronic check</td>\n",
       "      <td>29.85</td>\n",
       "      <td>29.85</td>\n",
       "      <td>No</td>\n",
       "    </tr>\n",
       "    <tr>\n",
       "      <th>1</th>\n",
       "      <td>Male</td>\n",
       "      <td>0</td>\n",
       "      <td>No</td>\n",
       "      <td>No</td>\n",
       "      <td>34</td>\n",
       "      <td>Yes</td>\n",
       "      <td>No</td>\n",
       "      <td>DSL</td>\n",
       "      <td>Yes</td>\n",
       "      <td>No</td>\n",
       "      <td>Yes</td>\n",
       "      <td>No</td>\n",
       "      <td>No</td>\n",
       "      <td>No</td>\n",
       "      <td>One year</td>\n",
       "      <td>No</td>\n",
       "      <td>Mailed check</td>\n",
       "      <td>56.95</td>\n",
       "      <td>1889.5</td>\n",
       "      <td>No</td>\n",
       "    </tr>\n",
       "    <tr>\n",
       "      <th>2</th>\n",
       "      <td>Male</td>\n",
       "      <td>0</td>\n",
       "      <td>No</td>\n",
       "      <td>No</td>\n",
       "      <td>2</td>\n",
       "      <td>Yes</td>\n",
       "      <td>No</td>\n",
       "      <td>DSL</td>\n",
       "      <td>Yes</td>\n",
       "      <td>Yes</td>\n",
       "      <td>No</td>\n",
       "      <td>No</td>\n",
       "      <td>No</td>\n",
       "      <td>No</td>\n",
       "      <td>Month-to-month</td>\n",
       "      <td>Yes</td>\n",
       "      <td>Mailed check</td>\n",
       "      <td>53.85</td>\n",
       "      <td>108.15</td>\n",
       "      <td>Yes</td>\n",
       "    </tr>\n",
       "    <tr>\n",
       "      <th>3</th>\n",
       "      <td>Male</td>\n",
       "      <td>0</td>\n",
       "      <td>No</td>\n",
       "      <td>No</td>\n",
       "      <td>45</td>\n",
       "      <td>No</td>\n",
       "      <td>No phone service</td>\n",
       "      <td>DSL</td>\n",
       "      <td>Yes</td>\n",
       "      <td>No</td>\n",
       "      <td>Yes</td>\n",
       "      <td>Yes</td>\n",
       "      <td>No</td>\n",
       "      <td>No</td>\n",
       "      <td>One year</td>\n",
       "      <td>No</td>\n",
       "      <td>Bank transfer (automatic)</td>\n",
       "      <td>42.30</td>\n",
       "      <td>1840.75</td>\n",
       "      <td>No</td>\n",
       "    </tr>\n",
       "    <tr>\n",
       "      <th>4</th>\n",
       "      <td>Female</td>\n",
       "      <td>0</td>\n",
       "      <td>No</td>\n",
       "      <td>No</td>\n",
       "      <td>2</td>\n",
       "      <td>Yes</td>\n",
       "      <td>No</td>\n",
       "      <td>Fiber optic</td>\n",
       "      <td>No</td>\n",
       "      <td>No</td>\n",
       "      <td>No</td>\n",
       "      <td>No</td>\n",
       "      <td>No</td>\n",
       "      <td>No</td>\n",
       "      <td>Month-to-month</td>\n",
       "      <td>Yes</td>\n",
       "      <td>Electronic check</td>\n",
       "      <td>70.70</td>\n",
       "      <td>151.65</td>\n",
       "      <td>Yes</td>\n",
       "    </tr>\n",
       "  </tbody>\n",
       "</table>\n",
       "</div>"
      ],
      "text/plain": [
       "   gender  SeniorCitizen Partner Dependents  tenure PhoneService  \\\n",
       "0  Female              0     Yes         No       1           No   \n",
       "1    Male              0      No         No      34          Yes   \n",
       "2    Male              0      No         No       2          Yes   \n",
       "3    Male              0      No         No      45           No   \n",
       "4  Female              0      No         No       2          Yes   \n",
       "\n",
       "      MultipleLines InternetService OnlineSecurity OnlineBackup  \\\n",
       "0  No phone service             DSL             No          Yes   \n",
       "1                No             DSL            Yes           No   \n",
       "2                No             DSL            Yes          Yes   \n",
       "3  No phone service             DSL            Yes           No   \n",
       "4                No     Fiber optic             No           No   \n",
       "\n",
       "  DeviceProtection TechSupport StreamingTV StreamingMovies        Contract  \\\n",
       "0               No          No          No              No  Month-to-month   \n",
       "1              Yes          No          No              No        One year   \n",
       "2               No          No          No              No  Month-to-month   \n",
       "3              Yes         Yes          No              No        One year   \n",
       "4               No          No          No              No  Month-to-month   \n",
       "\n",
       "  PaperlessBilling              PaymentMethod  MonthlyCharges TotalCharges  \\\n",
       "0              Yes           Electronic check           29.85        29.85   \n",
       "1               No               Mailed check           56.95       1889.5   \n",
       "2              Yes               Mailed check           53.85       108.15   \n",
       "3               No  Bank transfer (automatic)           42.30      1840.75   \n",
       "4              Yes           Electronic check           70.70       151.65   \n",
       "\n",
       "  Churn  \n",
       "0    No  \n",
       "1    No  \n",
       "2   Yes  \n",
       "3    No  \n",
       "4   Yes  "
      ]
     },
     "execution_count": 2,
     "metadata": {},
     "output_type": "execute_result"
    }
   ],
   "source": [
    "churnData=pd.read_csv(\"Customer_churn.csv\")\n",
    "churnData.drop('customerID', axis=1, inplace=True)\n",
    "churnData.head()"
   ]
  },
  {
   "cell_type": "code",
   "execution_count": 3,
   "id": "4ac7982c",
   "metadata": {},
   "outputs": [
    {
     "data": {
      "text/plain": [
       "No     5174\n",
       "Yes    1869\n",
       "Name: Churn, dtype: int64"
      ]
     },
     "execution_count": 3,
     "metadata": {},
     "output_type": "execute_result"
    }
   ],
   "source": [
    "churnData['Churn'].value_counts() # As we can see, the data is imbalanced. "
   ]
  },
  {
   "cell_type": "code",
   "execution_count": 4,
   "id": "0b476182",
   "metadata": {},
   "outputs": [],
   "source": [
    "col_names=churnData.columns.values.tolist()\n",
    "for col in range(len(col_names)):\n",
    "    col_names[col]=col_names[col].lower()\n",
    "    col_names[col]=col_names[col].replace(\" \", \"_\")"
   ]
  },
  {
   "cell_type": "code",
   "execution_count": 5,
   "id": "7f20238c",
   "metadata": {},
   "outputs": [],
   "source": [
    "for i in range(len(col_names)):\n",
    "    churnData.rename(columns={churnData.columns.values[i]:col_names[i]},inplace=True)"
   ]
  },
  {
   "cell_type": "code",
   "execution_count": 6,
   "id": "08c96f5a",
   "metadata": {},
   "outputs": [
    {
     "name": "stdout",
     "output_type": "stream",
     "text": [
      "<class 'pandas.core.frame.DataFrame'>\n",
      "RangeIndex: 7043 entries, 0 to 7042\n",
      "Data columns (total 20 columns):\n",
      " #   Column            Non-Null Count  Dtype  \n",
      "---  ------            --------------  -----  \n",
      " 0   gender            7043 non-null   object \n",
      " 1   seniorcitizen     7043 non-null   int64  \n",
      " 2   partner           7043 non-null   object \n",
      " 3   dependents        7043 non-null   object \n",
      " 4   tenure            7043 non-null   int64  \n",
      " 5   phoneservice      7043 non-null   object \n",
      " 6   multiplelines     7043 non-null   object \n",
      " 7   internetservice   7043 non-null   object \n",
      " 8   onlinesecurity    7043 non-null   object \n",
      " 9   onlinebackup      7043 non-null   object \n",
      " 10  deviceprotection  7043 non-null   object \n",
      " 11  techsupport       7043 non-null   object \n",
      " 12  streamingtv       7043 non-null   object \n",
      " 13  streamingmovies   7043 non-null   object \n",
      " 14  contract          7043 non-null   object \n",
      " 15  paperlessbilling  7043 non-null   object \n",
      " 16  paymentmethod     7043 non-null   object \n",
      " 17  monthlycharges    7043 non-null   float64\n",
      " 18  totalcharges      7043 non-null   object \n",
      " 19  churn             7043 non-null   object \n",
      "dtypes: float64(1), int64(2), object(17)\n",
      "memory usage: 1.1+ MB\n"
     ]
    }
   ],
   "source": [
    "churnData.info()"
   ]
  },
  {
   "cell_type": "code",
   "execution_count": 7,
   "id": "e8b42c1c",
   "metadata": {},
   "outputs": [],
   "source": [
    "churnData = churnData[churnData.totalcharges != \" \"]"
   ]
  },
  {
   "cell_type": "code",
   "execution_count": 8,
   "id": "5c32d2a6",
   "metadata": {},
   "outputs": [
    {
     "data": {
      "text/plain": [
       "20.2      11\n",
       "19.75      9\n",
       "20.05      8\n",
       "19.9       8\n",
       "19.65      8\n",
       "          ..\n",
       "6849.4     1\n",
       "692.35     1\n",
       "130.15     1\n",
       "3211.9     1\n",
       "6844.5     1\n",
       "Name: totalcharges, Length: 6530, dtype: int64"
      ]
     },
     "execution_count": 8,
     "metadata": {},
     "output_type": "execute_result"
    }
   ],
   "source": [
    "churnData[\"totalcharges\"].value_counts()"
   ]
  },
  {
   "cell_type": "code",
   "execution_count": 9,
   "id": "ddaf4f89",
   "metadata": {},
   "outputs": [],
   "source": [
    "churnData['totalcharges'] = churnData['totalcharges'].astype(float)"
   ]
  },
  {
   "cell_type": "code",
   "execution_count": 10,
   "id": "76a547b4",
   "metadata": {},
   "outputs": [
    {
     "name": "stdout",
     "output_type": "stream",
     "text": [
      "<class 'pandas.core.frame.DataFrame'>\n",
      "Int64Index: 7032 entries, 0 to 7042\n",
      "Data columns (total 20 columns):\n",
      " #   Column            Non-Null Count  Dtype  \n",
      "---  ------            --------------  -----  \n",
      " 0   gender            7032 non-null   object \n",
      " 1   seniorcitizen     7032 non-null   int64  \n",
      " 2   partner           7032 non-null   object \n",
      " 3   dependents        7032 non-null   object \n",
      " 4   tenure            7032 non-null   int64  \n",
      " 5   phoneservice      7032 non-null   object \n",
      " 6   multiplelines     7032 non-null   object \n",
      " 7   internetservice   7032 non-null   object \n",
      " 8   onlinesecurity    7032 non-null   object \n",
      " 9   onlinebackup      7032 non-null   object \n",
      " 10  deviceprotection  7032 non-null   object \n",
      " 11  techsupport       7032 non-null   object \n",
      " 12  streamingtv       7032 non-null   object \n",
      " 13  streamingmovies   7032 non-null   object \n",
      " 14  contract          7032 non-null   object \n",
      " 15  paperlessbilling  7032 non-null   object \n",
      " 16  paymentmethod     7032 non-null   object \n",
      " 17  monthlycharges    7032 non-null   float64\n",
      " 18  totalcharges      7032 non-null   float64\n",
      " 19  churn             7032 non-null   object \n",
      "dtypes: float64(2), int64(2), object(16)\n",
      "memory usage: 1.1+ MB\n"
     ]
    }
   ],
   "source": [
    "churnData.info()"
   ]
  },
  {
   "cell_type": "code",
   "execution_count": 11,
   "id": "fd9c2e9e",
   "metadata": {},
   "outputs": [],
   "source": [
    "df_num = churnData.select_dtypes(include = np.number)\n",
    "df_cat = churnData.select_dtypes(include = object)"
   ]
  },
  {
   "cell_type": "code",
   "execution_count": 12,
   "id": "b43eddb7",
   "metadata": {},
   "outputs": [
    {
     "name": "stdout",
     "output_type": "stream",
     "text": [
      "<class 'pandas.core.frame.DataFrame'>\n",
      "Int64Index: 7032 entries, 0 to 7042\n",
      "Data columns (total 4 columns):\n",
      " #   Column          Non-Null Count  Dtype  \n",
      "---  ------          --------------  -----  \n",
      " 0   seniorcitizen   7032 non-null   int64  \n",
      " 1   tenure          7032 non-null   int64  \n",
      " 2   monthlycharges  7032 non-null   float64\n",
      " 3   totalcharges    7032 non-null   float64\n",
      "dtypes: float64(2), int64(2)\n",
      "memory usage: 274.7 KB\n"
     ]
    }
   ],
   "source": [
    "df_num.info()"
   ]
  },
  {
   "cell_type": "code",
   "execution_count": 13,
   "id": "9e71076e",
   "metadata": {},
   "outputs": [],
   "source": [
    "scaler=StandardScaler()"
   ]
  },
  {
   "cell_type": "code",
   "execution_count": 14,
   "id": "c6b17a99",
   "metadata": {},
   "outputs": [],
   "source": [
    "scaled=scaler.fit_transform(df_num)"
   ]
  },
  {
   "cell_type": "code",
   "execution_count": 15,
   "id": "a5fe0bc4",
   "metadata": {},
   "outputs": [],
   "source": [
    "df_num = pd.DataFrame(scaled,columns=df_num.columns)"
   ]
  },
  {
   "cell_type": "code",
   "execution_count": 16,
   "id": "b89e0eb9",
   "metadata": {},
   "outputs": [
    {
     "data": {
      "text/html": [
       "<div>\n",
       "<style scoped>\n",
       "    .dataframe tbody tr th:only-of-type {\n",
       "        vertical-align: middle;\n",
       "    }\n",
       "\n",
       "    .dataframe tbody tr th {\n",
       "        vertical-align: top;\n",
       "    }\n",
       "\n",
       "    .dataframe thead th {\n",
       "        text-align: right;\n",
       "    }\n",
       "</style>\n",
       "<table border=\"1\" class=\"dataframe\">\n",
       "  <thead>\n",
       "    <tr style=\"text-align: right;\">\n",
       "      <th></th>\n",
       "      <th>seniorcitizen</th>\n",
       "      <th>tenure</th>\n",
       "      <th>monthlycharges</th>\n",
       "      <th>totalcharges</th>\n",
       "    </tr>\n",
       "  </thead>\n",
       "  <tbody>\n",
       "    <tr>\n",
       "      <th>0</th>\n",
       "      <td>-0.440327</td>\n",
       "      <td>-1.280248</td>\n",
       "      <td>-1.161694</td>\n",
       "      <td>-0.994194</td>\n",
       "    </tr>\n",
       "    <tr>\n",
       "      <th>1</th>\n",
       "      <td>-0.440327</td>\n",
       "      <td>0.064303</td>\n",
       "      <td>-0.260878</td>\n",
       "      <td>-0.173740</td>\n",
       "    </tr>\n",
       "    <tr>\n",
       "      <th>2</th>\n",
       "      <td>-0.440327</td>\n",
       "      <td>-1.239504</td>\n",
       "      <td>-0.363923</td>\n",
       "      <td>-0.959649</td>\n",
       "    </tr>\n",
       "  </tbody>\n",
       "</table>\n",
       "</div>"
      ],
      "text/plain": [
       "   seniorcitizen    tenure  monthlycharges  totalcharges\n",
       "0      -0.440327 -1.280248       -1.161694     -0.994194\n",
       "1      -0.440327  0.064303       -0.260878     -0.173740\n",
       "2      -0.440327 -1.239504       -0.363923     -0.959649"
      ]
     },
     "execution_count": 16,
     "metadata": {},
     "output_type": "execute_result"
    }
   ],
   "source": [
    "df_num.head(3)"
   ]
  },
  {
   "cell_type": "code",
   "execution_count": 17,
   "id": "5ad178e5",
   "metadata": {},
   "outputs": [
    {
     "data": {
      "text/html": [
       "<div>\n",
       "<style scoped>\n",
       "    .dataframe tbody tr th:only-of-type {\n",
       "        vertical-align: middle;\n",
       "    }\n",
       "\n",
       "    .dataframe tbody tr th {\n",
       "        vertical-align: top;\n",
       "    }\n",
       "\n",
       "    .dataframe thead th {\n",
       "        text-align: right;\n",
       "    }\n",
       "</style>\n",
       "<table border=\"1\" class=\"dataframe\">\n",
       "  <thead>\n",
       "    <tr style=\"text-align: right;\">\n",
       "      <th></th>\n",
       "      <th>gender</th>\n",
       "      <th>partner</th>\n",
       "      <th>dependents</th>\n",
       "      <th>phoneservice</th>\n",
       "      <th>multiplelines</th>\n",
       "      <th>internetservice</th>\n",
       "      <th>onlinesecurity</th>\n",
       "      <th>onlinebackup</th>\n",
       "      <th>deviceprotection</th>\n",
       "      <th>techsupport</th>\n",
       "      <th>streamingtv</th>\n",
       "      <th>streamingmovies</th>\n",
       "      <th>contract</th>\n",
       "      <th>paperlessbilling</th>\n",
       "      <th>paymentmethod</th>\n",
       "      <th>churn</th>\n",
       "    </tr>\n",
       "  </thead>\n",
       "  <tbody>\n",
       "    <tr>\n",
       "      <th>0</th>\n",
       "      <td>Female</td>\n",
       "      <td>Yes</td>\n",
       "      <td>No</td>\n",
       "      <td>No</td>\n",
       "      <td>No phone service</td>\n",
       "      <td>DSL</td>\n",
       "      <td>No</td>\n",
       "      <td>Yes</td>\n",
       "      <td>No</td>\n",
       "      <td>No</td>\n",
       "      <td>No</td>\n",
       "      <td>No</td>\n",
       "      <td>Month-to-month</td>\n",
       "      <td>Yes</td>\n",
       "      <td>Electronic check</td>\n",
       "      <td>No</td>\n",
       "    </tr>\n",
       "    <tr>\n",
       "      <th>1</th>\n",
       "      <td>Male</td>\n",
       "      <td>No</td>\n",
       "      <td>No</td>\n",
       "      <td>Yes</td>\n",
       "      <td>No</td>\n",
       "      <td>DSL</td>\n",
       "      <td>Yes</td>\n",
       "      <td>No</td>\n",
       "      <td>Yes</td>\n",
       "      <td>No</td>\n",
       "      <td>No</td>\n",
       "      <td>No</td>\n",
       "      <td>One year</td>\n",
       "      <td>No</td>\n",
       "      <td>Mailed check</td>\n",
       "      <td>No</td>\n",
       "    </tr>\n",
       "  </tbody>\n",
       "</table>\n",
       "</div>"
      ],
      "text/plain": [
       "   gender partner dependents phoneservice     multiplelines internetservice  \\\n",
       "0  Female     Yes         No           No  No phone service             DSL   \n",
       "1    Male      No         No          Yes                No             DSL   \n",
       "\n",
       "  onlinesecurity onlinebackup deviceprotection techsupport streamingtv  \\\n",
       "0             No          Yes               No          No          No   \n",
       "1            Yes           No              Yes          No          No   \n",
       "\n",
       "  streamingmovies        contract paperlessbilling     paymentmethod churn  \n",
       "0              No  Month-to-month              Yes  Electronic check    No  \n",
       "1              No        One year               No      Mailed check    No  "
      ]
     },
     "execution_count": 17,
     "metadata": {},
     "output_type": "execute_result"
    }
   ],
   "source": [
    "#Let's drop some useless columns\n",
    "df_cat = churnData.select_dtypes(include = 'object')\n",
    "df_cat.head(2)"
   ]
  },
  {
   "cell_type": "code",
   "execution_count": 18,
   "id": "1c089ac2",
   "metadata": {},
   "outputs": [
    {
     "data": {
      "text/html": [
       "<div>\n",
       "<style scoped>\n",
       "    .dataframe tbody tr th:only-of-type {\n",
       "        vertical-align: middle;\n",
       "    }\n",
       "\n",
       "    .dataframe tbody tr th {\n",
       "        vertical-align: top;\n",
       "    }\n",
       "\n",
       "    .dataframe thead th {\n",
       "        text-align: right;\n",
       "    }\n",
       "</style>\n",
       "<table border=\"1\" class=\"dataframe\">\n",
       "  <thead>\n",
       "    <tr style=\"text-align: right;\">\n",
       "      <th></th>\n",
       "      <th>gender</th>\n",
       "      <th>partner</th>\n",
       "      <th>dependents</th>\n",
       "      <th>phoneservice</th>\n",
       "      <th>multiplelines</th>\n",
       "      <th>internetservice</th>\n",
       "      <th>onlinesecurity</th>\n",
       "      <th>onlinebackup</th>\n",
       "      <th>deviceprotection</th>\n",
       "      <th>techsupport</th>\n",
       "      <th>streamingtv</th>\n",
       "      <th>streamingmovies</th>\n",
       "      <th>contract</th>\n",
       "      <th>paperlessbilling</th>\n",
       "      <th>paymentmethod</th>\n",
       "    </tr>\n",
       "  </thead>\n",
       "  <tbody>\n",
       "    <tr>\n",
       "      <th>0</th>\n",
       "      <td>Female</td>\n",
       "      <td>Yes</td>\n",
       "      <td>No</td>\n",
       "      <td>No</td>\n",
       "      <td>No phone service</td>\n",
       "      <td>DSL</td>\n",
       "      <td>No</td>\n",
       "      <td>Yes</td>\n",
       "      <td>No</td>\n",
       "      <td>No</td>\n",
       "      <td>No</td>\n",
       "      <td>No</td>\n",
       "      <td>Month-to-month</td>\n",
       "      <td>Yes</td>\n",
       "      <td>Electronic check</td>\n",
       "    </tr>\n",
       "    <tr>\n",
       "      <th>1</th>\n",
       "      <td>Male</td>\n",
       "      <td>No</td>\n",
       "      <td>No</td>\n",
       "      <td>Yes</td>\n",
       "      <td>No</td>\n",
       "      <td>DSL</td>\n",
       "      <td>Yes</td>\n",
       "      <td>No</td>\n",
       "      <td>Yes</td>\n",
       "      <td>No</td>\n",
       "      <td>No</td>\n",
       "      <td>No</td>\n",
       "      <td>One year</td>\n",
       "      <td>No</td>\n",
       "      <td>Mailed check</td>\n",
       "    </tr>\n",
       "  </tbody>\n",
       "</table>\n",
       "</div>"
      ],
      "text/plain": [
       "   gender partner dependents phoneservice     multiplelines internetservice  \\\n",
       "0  Female     Yes         No           No  No phone service             DSL   \n",
       "1    Male      No         No          Yes                No             DSL   \n",
       "\n",
       "  onlinesecurity onlinebackup deviceprotection techsupport streamingtv  \\\n",
       "0             No          Yes               No          No          No   \n",
       "1            Yes           No              Yes          No          No   \n",
       "\n",
       "  streamingmovies        contract paperlessbilling     paymentmethod  \n",
       "0              No  Month-to-month              Yes  Electronic check  \n",
       "1              No        One year               No      Mailed check  "
      ]
     },
     "execution_count": 18,
     "metadata": {},
     "output_type": "execute_result"
    }
   ],
   "source": [
    "df_cat = df_cat.drop(['churn'], axis=1)\n",
    "df_cat.head(2)"
   ]
  },
  {
   "cell_type": "code",
   "execution_count": 19,
   "id": "975e9bb9",
   "metadata": {},
   "outputs": [
    {
     "data": {
      "text/html": [
       "<div>\n",
       "<style scoped>\n",
       "    .dataframe tbody tr th:only-of-type {\n",
       "        vertical-align: middle;\n",
       "    }\n",
       "\n",
       "    .dataframe tbody tr th {\n",
       "        vertical-align: top;\n",
       "    }\n",
       "\n",
       "    .dataframe thead th {\n",
       "        text-align: right;\n",
       "    }\n",
       "</style>\n",
       "<table border=\"1\" class=\"dataframe\">\n",
       "  <thead>\n",
       "    <tr style=\"text-align: right;\">\n",
       "      <th></th>\n",
       "      <th>gender_Male</th>\n",
       "      <th>partner_Yes</th>\n",
       "      <th>dependents_Yes</th>\n",
       "      <th>phoneservice_Yes</th>\n",
       "      <th>multiplelines_No phone service</th>\n",
       "      <th>multiplelines_Yes</th>\n",
       "      <th>internetservice_Fiber optic</th>\n",
       "      <th>internetservice_No</th>\n",
       "      <th>onlinesecurity_No internet service</th>\n",
       "      <th>onlinesecurity_Yes</th>\n",
       "      <th>...</th>\n",
       "      <th>streamingtv_No internet service</th>\n",
       "      <th>streamingtv_Yes</th>\n",
       "      <th>streamingmovies_No internet service</th>\n",
       "      <th>streamingmovies_Yes</th>\n",
       "      <th>contract_One year</th>\n",
       "      <th>contract_Two year</th>\n",
       "      <th>paperlessbilling_Yes</th>\n",
       "      <th>paymentmethod_Credit card (automatic)</th>\n",
       "      <th>paymentmethod_Electronic check</th>\n",
       "      <th>paymentmethod_Mailed check</th>\n",
       "    </tr>\n",
       "  </thead>\n",
       "  <tbody>\n",
       "    <tr>\n",
       "      <th>0</th>\n",
       "      <td>0.0</td>\n",
       "      <td>1.0</td>\n",
       "      <td>0.0</td>\n",
       "      <td>0.0</td>\n",
       "      <td>1.0</td>\n",
       "      <td>0.0</td>\n",
       "      <td>0.0</td>\n",
       "      <td>0.0</td>\n",
       "      <td>0.0</td>\n",
       "      <td>0.0</td>\n",
       "      <td>...</td>\n",
       "      <td>0.0</td>\n",
       "      <td>0.0</td>\n",
       "      <td>0.0</td>\n",
       "      <td>0.0</td>\n",
       "      <td>0.0</td>\n",
       "      <td>0.0</td>\n",
       "      <td>1.0</td>\n",
       "      <td>0.0</td>\n",
       "      <td>1.0</td>\n",
       "      <td>0.0</td>\n",
       "    </tr>\n",
       "    <tr>\n",
       "      <th>1</th>\n",
       "      <td>1.0</td>\n",
       "      <td>0.0</td>\n",
       "      <td>0.0</td>\n",
       "      <td>1.0</td>\n",
       "      <td>0.0</td>\n",
       "      <td>0.0</td>\n",
       "      <td>0.0</td>\n",
       "      <td>0.0</td>\n",
       "      <td>0.0</td>\n",
       "      <td>1.0</td>\n",
       "      <td>...</td>\n",
       "      <td>0.0</td>\n",
       "      <td>0.0</td>\n",
       "      <td>0.0</td>\n",
       "      <td>0.0</td>\n",
       "      <td>1.0</td>\n",
       "      <td>0.0</td>\n",
       "      <td>0.0</td>\n",
       "      <td>0.0</td>\n",
       "      <td>0.0</td>\n",
       "      <td>1.0</td>\n",
       "    </tr>\n",
       "    <tr>\n",
       "      <th>2</th>\n",
       "      <td>1.0</td>\n",
       "      <td>0.0</td>\n",
       "      <td>0.0</td>\n",
       "      <td>1.0</td>\n",
       "      <td>0.0</td>\n",
       "      <td>0.0</td>\n",
       "      <td>0.0</td>\n",
       "      <td>0.0</td>\n",
       "      <td>0.0</td>\n",
       "      <td>1.0</td>\n",
       "      <td>...</td>\n",
       "      <td>0.0</td>\n",
       "      <td>0.0</td>\n",
       "      <td>0.0</td>\n",
       "      <td>0.0</td>\n",
       "      <td>0.0</td>\n",
       "      <td>0.0</td>\n",
       "      <td>1.0</td>\n",
       "      <td>0.0</td>\n",
       "      <td>0.0</td>\n",
       "      <td>1.0</td>\n",
       "    </tr>\n",
       "    <tr>\n",
       "      <th>3</th>\n",
       "      <td>1.0</td>\n",
       "      <td>0.0</td>\n",
       "      <td>0.0</td>\n",
       "      <td>0.0</td>\n",
       "      <td>1.0</td>\n",
       "      <td>0.0</td>\n",
       "      <td>0.0</td>\n",
       "      <td>0.0</td>\n",
       "      <td>0.0</td>\n",
       "      <td>1.0</td>\n",
       "      <td>...</td>\n",
       "      <td>0.0</td>\n",
       "      <td>0.0</td>\n",
       "      <td>0.0</td>\n",
       "      <td>0.0</td>\n",
       "      <td>1.0</td>\n",
       "      <td>0.0</td>\n",
       "      <td>0.0</td>\n",
       "      <td>0.0</td>\n",
       "      <td>0.0</td>\n",
       "      <td>0.0</td>\n",
       "    </tr>\n",
       "    <tr>\n",
       "      <th>4</th>\n",
       "      <td>0.0</td>\n",
       "      <td>0.0</td>\n",
       "      <td>0.0</td>\n",
       "      <td>1.0</td>\n",
       "      <td>0.0</td>\n",
       "      <td>0.0</td>\n",
       "      <td>1.0</td>\n",
       "      <td>0.0</td>\n",
       "      <td>0.0</td>\n",
       "      <td>0.0</td>\n",
       "      <td>...</td>\n",
       "      <td>0.0</td>\n",
       "      <td>0.0</td>\n",
       "      <td>0.0</td>\n",
       "      <td>0.0</td>\n",
       "      <td>0.0</td>\n",
       "      <td>0.0</td>\n",
       "      <td>1.0</td>\n",
       "      <td>0.0</td>\n",
       "      <td>1.0</td>\n",
       "      <td>0.0</td>\n",
       "    </tr>\n",
       "    <tr>\n",
       "      <th>...</th>\n",
       "      <td>...</td>\n",
       "      <td>...</td>\n",
       "      <td>...</td>\n",
       "      <td>...</td>\n",
       "      <td>...</td>\n",
       "      <td>...</td>\n",
       "      <td>...</td>\n",
       "      <td>...</td>\n",
       "      <td>...</td>\n",
       "      <td>...</td>\n",
       "      <td>...</td>\n",
       "      <td>...</td>\n",
       "      <td>...</td>\n",
       "      <td>...</td>\n",
       "      <td>...</td>\n",
       "      <td>...</td>\n",
       "      <td>...</td>\n",
       "      <td>...</td>\n",
       "      <td>...</td>\n",
       "      <td>...</td>\n",
       "      <td>...</td>\n",
       "    </tr>\n",
       "    <tr>\n",
       "      <th>7027</th>\n",
       "      <td>1.0</td>\n",
       "      <td>1.0</td>\n",
       "      <td>1.0</td>\n",
       "      <td>1.0</td>\n",
       "      <td>0.0</td>\n",
       "      <td>1.0</td>\n",
       "      <td>0.0</td>\n",
       "      <td>0.0</td>\n",
       "      <td>0.0</td>\n",
       "      <td>1.0</td>\n",
       "      <td>...</td>\n",
       "      <td>0.0</td>\n",
       "      <td>1.0</td>\n",
       "      <td>0.0</td>\n",
       "      <td>1.0</td>\n",
       "      <td>1.0</td>\n",
       "      <td>0.0</td>\n",
       "      <td>1.0</td>\n",
       "      <td>0.0</td>\n",
       "      <td>0.0</td>\n",
       "      <td>1.0</td>\n",
       "    </tr>\n",
       "    <tr>\n",
       "      <th>7028</th>\n",
       "      <td>0.0</td>\n",
       "      <td>1.0</td>\n",
       "      <td>1.0</td>\n",
       "      <td>1.0</td>\n",
       "      <td>0.0</td>\n",
       "      <td>1.0</td>\n",
       "      <td>1.0</td>\n",
       "      <td>0.0</td>\n",
       "      <td>0.0</td>\n",
       "      <td>0.0</td>\n",
       "      <td>...</td>\n",
       "      <td>0.0</td>\n",
       "      <td>1.0</td>\n",
       "      <td>0.0</td>\n",
       "      <td>1.0</td>\n",
       "      <td>1.0</td>\n",
       "      <td>0.0</td>\n",
       "      <td>1.0</td>\n",
       "      <td>1.0</td>\n",
       "      <td>0.0</td>\n",
       "      <td>0.0</td>\n",
       "    </tr>\n",
       "    <tr>\n",
       "      <th>7029</th>\n",
       "      <td>0.0</td>\n",
       "      <td>1.0</td>\n",
       "      <td>1.0</td>\n",
       "      <td>0.0</td>\n",
       "      <td>1.0</td>\n",
       "      <td>0.0</td>\n",
       "      <td>0.0</td>\n",
       "      <td>0.0</td>\n",
       "      <td>0.0</td>\n",
       "      <td>1.0</td>\n",
       "      <td>...</td>\n",
       "      <td>0.0</td>\n",
       "      <td>0.0</td>\n",
       "      <td>0.0</td>\n",
       "      <td>0.0</td>\n",
       "      <td>0.0</td>\n",
       "      <td>0.0</td>\n",
       "      <td>1.0</td>\n",
       "      <td>0.0</td>\n",
       "      <td>1.0</td>\n",
       "      <td>0.0</td>\n",
       "    </tr>\n",
       "    <tr>\n",
       "      <th>7030</th>\n",
       "      <td>1.0</td>\n",
       "      <td>1.0</td>\n",
       "      <td>0.0</td>\n",
       "      <td>1.0</td>\n",
       "      <td>0.0</td>\n",
       "      <td>1.0</td>\n",
       "      <td>1.0</td>\n",
       "      <td>0.0</td>\n",
       "      <td>0.0</td>\n",
       "      <td>0.0</td>\n",
       "      <td>...</td>\n",
       "      <td>0.0</td>\n",
       "      <td>0.0</td>\n",
       "      <td>0.0</td>\n",
       "      <td>0.0</td>\n",
       "      <td>0.0</td>\n",
       "      <td>0.0</td>\n",
       "      <td>1.0</td>\n",
       "      <td>0.0</td>\n",
       "      <td>0.0</td>\n",
       "      <td>1.0</td>\n",
       "    </tr>\n",
       "    <tr>\n",
       "      <th>7031</th>\n",
       "      <td>1.0</td>\n",
       "      <td>0.0</td>\n",
       "      <td>0.0</td>\n",
       "      <td>1.0</td>\n",
       "      <td>0.0</td>\n",
       "      <td>0.0</td>\n",
       "      <td>1.0</td>\n",
       "      <td>0.0</td>\n",
       "      <td>0.0</td>\n",
       "      <td>1.0</td>\n",
       "      <td>...</td>\n",
       "      <td>0.0</td>\n",
       "      <td>1.0</td>\n",
       "      <td>0.0</td>\n",
       "      <td>1.0</td>\n",
       "      <td>0.0</td>\n",
       "      <td>1.0</td>\n",
       "      <td>1.0</td>\n",
       "      <td>0.0</td>\n",
       "      <td>0.0</td>\n",
       "      <td>0.0</td>\n",
       "    </tr>\n",
       "  </tbody>\n",
       "</table>\n",
       "<p>7032 rows × 26 columns</p>\n",
       "</div>"
      ],
      "text/plain": [
       "      gender_Male  partner_Yes  dependents_Yes  phoneservice_Yes  \\\n",
       "0             0.0          1.0             0.0               0.0   \n",
       "1             1.0          0.0             0.0               1.0   \n",
       "2             1.0          0.0             0.0               1.0   \n",
       "3             1.0          0.0             0.0               0.0   \n",
       "4             0.0          0.0             0.0               1.0   \n",
       "...           ...          ...             ...               ...   \n",
       "7027          1.0          1.0             1.0               1.0   \n",
       "7028          0.0          1.0             1.0               1.0   \n",
       "7029          0.0          1.0             1.0               0.0   \n",
       "7030          1.0          1.0             0.0               1.0   \n",
       "7031          1.0          0.0             0.0               1.0   \n",
       "\n",
       "      multiplelines_No phone service  multiplelines_Yes  \\\n",
       "0                                1.0                0.0   \n",
       "1                                0.0                0.0   \n",
       "2                                0.0                0.0   \n",
       "3                                1.0                0.0   \n",
       "4                                0.0                0.0   \n",
       "...                              ...                ...   \n",
       "7027                             0.0                1.0   \n",
       "7028                             0.0                1.0   \n",
       "7029                             1.0                0.0   \n",
       "7030                             0.0                1.0   \n",
       "7031                             0.0                0.0   \n",
       "\n",
       "      internetservice_Fiber optic  internetservice_No  \\\n",
       "0                             0.0                 0.0   \n",
       "1                             0.0                 0.0   \n",
       "2                             0.0                 0.0   \n",
       "3                             0.0                 0.0   \n",
       "4                             1.0                 0.0   \n",
       "...                           ...                 ...   \n",
       "7027                          0.0                 0.0   \n",
       "7028                          1.0                 0.0   \n",
       "7029                          0.0                 0.0   \n",
       "7030                          1.0                 0.0   \n",
       "7031                          1.0                 0.0   \n",
       "\n",
       "      onlinesecurity_No internet service  onlinesecurity_Yes  ...  \\\n",
       "0                                    0.0                 0.0  ...   \n",
       "1                                    0.0                 1.0  ...   \n",
       "2                                    0.0                 1.0  ...   \n",
       "3                                    0.0                 1.0  ...   \n",
       "4                                    0.0                 0.0  ...   \n",
       "...                                  ...                 ...  ...   \n",
       "7027                                 0.0                 1.0  ...   \n",
       "7028                                 0.0                 0.0  ...   \n",
       "7029                                 0.0                 1.0  ...   \n",
       "7030                                 0.0                 0.0  ...   \n",
       "7031                                 0.0                 1.0  ...   \n",
       "\n",
       "      streamingtv_No internet service  streamingtv_Yes  \\\n",
       "0                                 0.0              0.0   \n",
       "1                                 0.0              0.0   \n",
       "2                                 0.0              0.0   \n",
       "3                                 0.0              0.0   \n",
       "4                                 0.0              0.0   \n",
       "...                               ...              ...   \n",
       "7027                              0.0              1.0   \n",
       "7028                              0.0              1.0   \n",
       "7029                              0.0              0.0   \n",
       "7030                              0.0              0.0   \n",
       "7031                              0.0              1.0   \n",
       "\n",
       "      streamingmovies_No internet service  streamingmovies_Yes  \\\n",
       "0                                     0.0                  0.0   \n",
       "1                                     0.0                  0.0   \n",
       "2                                     0.0                  0.0   \n",
       "3                                     0.0                  0.0   \n",
       "4                                     0.0                  0.0   \n",
       "...                                   ...                  ...   \n",
       "7027                                  0.0                  1.0   \n",
       "7028                                  0.0                  1.0   \n",
       "7029                                  0.0                  0.0   \n",
       "7030                                  0.0                  0.0   \n",
       "7031                                  0.0                  1.0   \n",
       "\n",
       "      contract_One year  contract_Two year  paperlessbilling_Yes  \\\n",
       "0                   0.0                0.0                   1.0   \n",
       "1                   1.0                0.0                   0.0   \n",
       "2                   0.0                0.0                   1.0   \n",
       "3                   1.0                0.0                   0.0   \n",
       "4                   0.0                0.0                   1.0   \n",
       "...                 ...                ...                   ...   \n",
       "7027                1.0                0.0                   1.0   \n",
       "7028                1.0                0.0                   1.0   \n",
       "7029                0.0                0.0                   1.0   \n",
       "7030                0.0                0.0                   1.0   \n",
       "7031                0.0                1.0                   1.0   \n",
       "\n",
       "      paymentmethod_Credit card (automatic)  paymentmethod_Electronic check  \\\n",
       "0                                       0.0                             1.0   \n",
       "1                                       0.0                             0.0   \n",
       "2                                       0.0                             0.0   \n",
       "3                                       0.0                             0.0   \n",
       "4                                       0.0                             1.0   \n",
       "...                                     ...                             ...   \n",
       "7027                                    0.0                             0.0   \n",
       "7028                                    1.0                             0.0   \n",
       "7029                                    0.0                             1.0   \n",
       "7030                                    0.0                             0.0   \n",
       "7031                                    0.0                             0.0   \n",
       "\n",
       "      paymentmethod_Mailed check  \n",
       "0                            0.0  \n",
       "1                            1.0  \n",
       "2                            1.0  \n",
       "3                            0.0  \n",
       "4                            0.0  \n",
       "...                          ...  \n",
       "7027                         1.0  \n",
       "7028                         0.0  \n",
       "7029                         0.0  \n",
       "7030                         1.0  \n",
       "7031                         0.0  \n",
       "\n",
       "[7032 rows x 26 columns]"
      ]
     },
     "execution_count": 19,
     "metadata": {},
     "output_type": "execute_result"
    }
   ],
   "source": [
    "#One Hot/Label Encoding\n",
    "from sklearn.preprocessing import OneHotEncoder\n",
    "\n",
    "encoder = OneHotEncoder(drop='first').fit(df_cat)\n",
    "encoded = encoder.transform(df_cat).toarray()\n",
    "cols = encoder.get_feature_names(input_features=df_cat.columns)\n",
    "onehot_encoded = pd.DataFrame(encoded, columns=cols)\n",
    "onehot_encoded#.head()"
   ]
  },
  {
   "cell_type": "code",
   "execution_count": 20,
   "id": "cff9779e",
   "metadata": {},
   "outputs": [],
   "source": [
    "X_concat=np.concatenate([df_num,encoded], axis=1)\n",
    "y= churnData['churn']"
   ]
  },
  {
   "cell_type": "code",
   "execution_count": 21,
   "id": "e1ccf51e",
   "metadata": {},
   "outputs": [],
   "source": [
    "X_train, X_test, y_train, y_test = train_test_split(X_concat, y, test_size=0.3, random_state=42)"
   ]
  },
  {
   "cell_type": "code",
   "execution_count": 22,
   "id": "b3452214",
   "metadata": {},
   "outputs": [],
   "source": [
    "#lets use smote tecnique to balance the dataset\n",
    "smote=SMOTE()"
   ]
  },
  {
   "cell_type": "code",
   "execution_count": 23,
   "id": "71da5da9",
   "metadata": {},
   "outputs": [
    {
     "data": {
      "text/plain": [
       "Yes    3614\n",
       "No     3614\n",
       "Name: churn, dtype: int64"
      ]
     },
     "execution_count": 23,
     "metadata": {},
     "output_type": "execute_result"
    }
   ],
   "source": [
    "X_train_sm, y_train_sm = smote.fit_resample(X_train, y_train)\n",
    "y_train_sm.value_counts()"
   ]
  },
  {
   "cell_type": "code",
   "execution_count": 24,
   "id": "fb5d4f69",
   "metadata": {},
   "outputs": [
    {
     "name": "stdout",
     "output_type": "stream",
     "text": [
      "              precision    recall  f1-score   support\n",
      "\n",
      "          No       0.91      0.73      0.81      1549\n",
      "         Yes       0.52      0.79      0.63       561\n",
      "\n",
      "    accuracy                           0.75      2110\n",
      "   macro avg       0.71      0.76      0.72      2110\n",
      "weighted avg       0.80      0.75      0.76      2110\n",
      "\n"
     ]
    }
   ],
   "source": [
    "#Logistic regression\n",
    "classification = LogisticRegression(random_state=42, max_iter=10000)\n",
    "classification.fit(X_train_sm, y_train_sm)\n",
    "\n",
    "y_sm_predictions = classification.predict(X_test)\n",
    "print(classification_report(y_test, y_sm_predictions))\n"
   ]
  },
  {
   "cell_type": "code",
   "execution_count": 25,
   "id": "d6f002ea",
   "metadata": {},
   "outputs": [
    {
     "data": {
      "text/plain": [
       "DecisionTreeClassifier(max_depth=4, min_samples_leaf=5, random_state=42)"
      ]
     },
     "execution_count": 25,
     "metadata": {},
     "output_type": "execute_result"
    }
   ],
   "source": [
    "#lets use the decision tree and compare the results\n",
    "clf_model = DecisionTreeClassifier(criterion=\"gini\", random_state=42,max_depth=4, min_samples_leaf=5)   \n",
    "clf_model.fit(X_train_sm,y_train_sm)"
   ]
  },
  {
   "cell_type": "code",
   "execution_count": 26,
   "id": "7be085c6",
   "metadata": {},
   "outputs": [],
   "source": [
    "y_predict_dt = clf_model.predict(X_test)"
   ]
  },
  {
   "cell_type": "code",
   "execution_count": 27,
   "id": "18e1cdf2",
   "metadata": {},
   "outputs": [
    {
     "data": {
      "text/plain": [
       "0.7279620853080568"
      ]
     },
     "execution_count": 27,
     "metadata": {},
     "output_type": "execute_result"
    }
   ],
   "source": [
    "accuracy_score(y_test,y_predict_dt)"
   ]
  },
  {
   "cell_type": "code",
   "execution_count": 28,
   "id": "7185d3eb",
   "metadata": {},
   "outputs": [
    {
     "name": "stdout",
     "output_type": "stream",
     "text": [
      "              precision    recall  f1-score   support\n",
      "\n",
      "          No       0.90      0.71      0.79      1549\n",
      "         Yes       0.49      0.78      0.60       561\n",
      "\n",
      "    accuracy                           0.73      2110\n",
      "   macro avg       0.70      0.74      0.70      2110\n",
      "weighted avg       0.79      0.73      0.74      2110\n",
      "\n"
     ]
    }
   ],
   "source": [
    "print(classification_report(y_test, y_predict_dt))"
   ]
  },
  {
   "cell_type": "markdown",
   "id": "b9163410",
   "metadata": {},
   "source": [
    "in both the models the results are similar but we have better resuts in logistic regression"
   ]
  },
  {
   "cell_type": "code",
   "execution_count": 29,
   "id": "0e103cc6",
   "metadata": {},
   "outputs": [],
   "source": [
    "#tomelinks downsampling method\n",
    "tomek = TomekLinks()"
   ]
  },
  {
   "cell_type": "code",
   "execution_count": 30,
   "id": "aeff8e07",
   "metadata": {},
   "outputs": [],
   "source": [
    "X_train_tl,y_train_tl=tomek.fit_resample(X_train,y_train)"
   ]
  },
  {
   "cell_type": "code",
   "execution_count": 31,
   "id": "e1be8b1c",
   "metadata": {},
   "outputs": [
    {
     "data": {
      "text/plain": [
       "No     3296\n",
       "Yes    1308\n",
       "Name: churn, dtype: int64"
      ]
     },
     "execution_count": 31,
     "metadata": {},
     "output_type": "execute_result"
    }
   ],
   "source": [
    "y_train_tl.value_counts()"
   ]
  },
  {
   "cell_type": "code",
   "execution_count": 32,
   "id": "3d086be2",
   "metadata": {},
   "outputs": [
    {
     "data": {
      "text/plain": [
       "LogisticRegression(max_iter=10000, random_state=42)"
      ]
     },
     "execution_count": 32,
     "metadata": {},
     "output_type": "execute_result"
    }
   ],
   "source": [
    "classification_lr=LogisticRegression(random_state=42, max_iter=10000)\n",
    "classification_lr.fit(X_train_tl,y_train_tl)"
   ]
  },
  {
   "cell_type": "code",
   "execution_count": 33,
   "id": "6dce5378",
   "metadata": {},
   "outputs": [],
   "source": [
    "y_pred_tl=classification_lr.predict(X_test)"
   ]
  },
  {
   "cell_type": "code",
   "execution_count": 34,
   "id": "9e5fb5e6",
   "metadata": {},
   "outputs": [
    {
     "data": {
      "text/plain": [
       "0.7900473933649289"
      ]
     },
     "execution_count": 34,
     "metadata": {},
     "output_type": "execute_result"
    }
   ],
   "source": [
    "accuracy_score(y_test,y_pred_tl)"
   ]
  },
  {
   "cell_type": "code",
   "execution_count": 35,
   "id": "f86c7ea9",
   "metadata": {},
   "outputs": [
    {
     "name": "stdout",
     "output_type": "stream",
     "text": [
      "              precision    recall  f1-score   support\n",
      "\n",
      "          No       0.86      0.85      0.86      1549\n",
      "         Yes       0.60      0.61      0.61       561\n",
      "\n",
      "    accuracy                           0.79      2110\n",
      "   macro avg       0.73      0.73      0.73      2110\n",
      "weighted avg       0.79      0.79      0.79      2110\n",
      "\n"
     ]
    }
   ],
   "source": [
    "print(classification_report(y_test, y_pred_tl))"
   ]
  },
  {
   "cell_type": "code",
   "execution_count": 36,
   "id": "af6f76b8",
   "metadata": {},
   "outputs": [
    {
     "data": {
      "text/plain": [
       "DecisionTreeClassifier(max_depth=3, min_samples_leaf=5, random_state=42)"
      ]
     },
     "execution_count": 36,
     "metadata": {},
     "output_type": "execute_result"
    }
   ],
   "source": [
    "clf_model_tl = DecisionTreeClassifier(criterion=\"gini\", random_state=42,max_depth=3, min_samples_leaf=5) \n",
    "clf_model_tl.fit(X_train_tl,y_train_tl)"
   ]
  },
  {
   "cell_type": "code",
   "execution_count": 37,
   "id": "fc12a621",
   "metadata": {},
   "outputs": [],
   "source": [
    "y_predict_dt_tl = clf_model.predict(X_test)"
   ]
  },
  {
   "cell_type": "code",
   "execution_count": 38,
   "id": "f35cb85a",
   "metadata": {},
   "outputs": [
    {
     "data": {
      "text/plain": [
       "0.7279620853080568"
      ]
     },
     "execution_count": 38,
     "metadata": {},
     "output_type": "execute_result"
    }
   ],
   "source": [
    "accuracy_score(y_test,y_predict_dt_tl)"
   ]
  },
  {
   "cell_type": "code",
   "execution_count": 39,
   "id": "41e41d55",
   "metadata": {},
   "outputs": [
    {
     "name": "stdout",
     "output_type": "stream",
     "text": [
      "              precision    recall  f1-score   support\n",
      "\n",
      "          No       0.90      0.71      0.79      1549\n",
      "         Yes       0.49      0.78      0.60       561\n",
      "\n",
      "    accuracy                           0.73      2110\n",
      "   macro avg       0.70      0.74      0.70      2110\n",
      "weighted avg       0.79      0.73      0.74      2110\n",
      "\n"
     ]
    }
   ],
   "source": [
    "print(classification_report(y_test, y_predict_dt_tl))"
   ]
  },
  {
   "cell_type": "markdown",
   "id": "a47aed95",
   "metadata": {},
   "source": [
    "from using the two modes we can see that when predictic yes values logistic regression has better f1 score and recall values "
   ]
  },
  {
   "cell_type": "code",
   "execution_count": null,
   "id": "53613b75",
   "metadata": {},
   "outputs": [],
   "source": []
  }
 ],
 "metadata": {
  "kernelspec": {
   "display_name": "Python 3 (ipykernel)",
   "language": "python",
   "name": "python3"
  },
  "language_info": {
   "codemirror_mode": {
    "name": "ipython",
    "version": 3
   },
   "file_extension": ".py",
   "mimetype": "text/x-python",
   "name": "python",
   "nbconvert_exporter": "python",
   "pygments_lexer": "ipython3",
   "version": "3.9.12"
  }
 },
 "nbformat": 4,
 "nbformat_minor": 5
}
